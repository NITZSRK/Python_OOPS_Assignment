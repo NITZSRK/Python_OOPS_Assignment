{
  "nbformat": 4,
  "nbformat_minor": 0,
  "metadata": {
    "colab": {
      "provenance": []
    },
    "kernelspec": {
      "name": "python3",
      "display_name": "Python 3"
    },
    "language_info": {
      "name": "python"
    }
  },
  "cells": [
    {
      "cell_type": "markdown",
      "source": [
        "##  Theoretical Questions\n",
        "\n",
        "### 1. What is Object-Oriented Programming (OOP) ?\n",
        "    Object-Oriented Programming (OOP) is a way of  designing programs by creating 'objects' that combine data (attributes) and actions (methods), making code organized, reusable and easier to manage.\n",
        "\n",
        "### 2. What is a class in OOP ?\n",
        "    In OOP, a class is a blueprint or template for creating objects, defining the data (attributes) and actions (mmethods) that those objects will have.\n",
        "\n",
        "### 3. What is an object in OOP ?\n",
        "    In OOP, an **object** is an instance of a class that contains its own data and can perform actions defined by the class.\n",
        "\n",
        "### 4. What is the difference between abstraction and encapsulation ?\n",
        "    <u>Abstraction :</u> Abstraction is about **hiding implementation details** and showing only the essential features to the user.\n",
        "    Example: We use  TV remote  without knowing how the internal circuits work.\n",
        "\n",
        "    <u>Encapsulation : Encapsulattion is  about **wrapping data and methods together inside a class and restricting direct acess to the data.<br>\n",
        "    Example : The TV's internal components are enclosed inside the TV body, preventing direct tampering.\n",
        "\n",
        "### 5.  What are dunder methods in Python ?\n",
        "    Dunder Methods (short of double underscore methods) in Python are special built-in methods  that start and end with double underscore (__method__).\n",
        "    They let us define how objects of our class behave in certain situations (e.g, printing, addition, comparisons etc.)\n",
        "    Example :\n",
        "    \n",
        "    class School:\n",
        "    def __init__(self, name):  # called when creating an object\n",
        "        self.name = name\n",
        "\n",
        "    def __str__(self):  # called when printing an object\n",
        "        return (f'School object with name {self.name}')\n",
        "\n",
        "    obj = School('Delhi Public School')\n",
        "    print(obj)\n",
        "\n",
        "###  6. Explain the concept of inheritance in OOP.\n",
        "    Inheritance in OOP is a feature that allows one class (child or subclass) to use the properties and methods of another class (parent  or superclass).\n",
        "    It helps to reuse code** and create a hierarchy between classes.\n",
        "\n",
        "    The child class can use, extend** or **override** the parent class's behavior.\n",
        "\n",
        "### 7. What is polymorphism in OOP ?\n",
        "    Polymorphism in OOP means the ability of different classes to respond to the same method name in different ways.\n",
        "    It allows the same function or method call to behave differently depending on the object it is acting on.\n",
        "\n",
        "### 8.  How is encapsulation achieved in Python ?\n",
        "    In Python encapsulation is achieved by restricting direct access** to an object's data and controling it through methods.\n",
        "    This is done using access modifiers:<br>\n",
        "    1. Public → No underscore (accessible everywhere)\n",
        "    2. Protected → Single underscore '_var' (convention: should not be accessed directly outside the  class.)\n",
        "    3. Private → Double underscore '__var' (name mangling to prevent diect access).\n",
        "    Example :\n",
        "    class Person:\n",
        "    def __init__(self, name, age):\n",
        "        self.name = name           # Public\n",
        "        self._address = 'unknown'  # Protected\n",
        "        self.__salary = 50000      # Private\n",
        "\n",
        "    def get_salary(self):\n",
        "        return self.__salary   # Access via method\n",
        "\n",
        "    p = Person('nitz', 30)\n",
        "\n",
        "    print(p.name)         # Public\n",
        "    print(p._address)     # Possible but discouraged.\n",
        "    # print(p.__salary)   # Error\n",
        "    print(p.get_salary()) # Access via method\n",
        "\n",
        "### 9.  What is a constructor in Python ?\n",
        "    In Python, a **constructor** is a special method named *__ init__*  that is automatically called when a new object of a class is created.\n",
        "\n",
        "    It’s used to **initialize the object’s attributes**.\n",
        "    class Person:\n",
        "    def __init__(self, name, age):  # Constructor\n",
        "        self.name = name\n",
        "        self.age = age\n",
        "\n",
        "    p = Person('Ankit', 26)  #__init__ called here\n",
        "    print(p.name, p.age)\n",
        "\n",
        "### 10. What are class and static methods in Python ?\n",
        "     1. Class Methods** (@classmethod):\n",
        "\n",
        "     * Belong to the class rather than the instance.\n",
        "     * Receive the class (cls) as the  first argument.\n",
        "     * Can modify class-level data shared across all instances.\n",
        "    class Student:\n",
        "    school = 'ABC'\n",
        "    @classmethod\n",
        "    def set_school(cls, name):\n",
        "        cls.school = name\n",
        "\n",
        "    s = Student\n",
        "    s.set_school('XYZ')\n",
        "    print(s.school)\n",
        "    2. Static Methods (@staticmethod):\n",
        "\n",
        "    * belong to the class, but don't receive 'self' or 'cls' automatically.\n",
        "    * Used for utility functions that don't need access to instance or class data.\n",
        "\n",
        "    class MathUtils:\n",
        "    @staticmethod\n",
        "    def add(a,b):\n",
        "        return a + b\n",
        "\n",
        "    print(MathUtils.add(3,5))\n",
        "\n",
        "### 11. What is method overloading in Python ?\n",
        "    Method Overloading in Pythoon is the abiliy to define a method in a class in such a way that it can accept diferent numbers or types of arguments.\n",
        "    Example:\n",
        "    class Greet:\n",
        "    def hello(self, name=None):\n",
        "        if name:\n",
        "            print(\"Hello\", name)\n",
        "        else:\n",
        "            print(\"Hello\")\n",
        "\n",
        "    g = Greet()\n",
        "    g.hello()\n",
        "    g.hello(\"Ankit\")\n",
        "\n",
        "### 12. What is method overriding in OOP ?\n",
        "    Method Overriding is OOP is when a subclass provides a specific implementation of a method that is already defined in its parent class.\n",
        "\n",
        "    The overridden method in the child has the **same name, parameters and return type as in the parent class but performs a different task.\n",
        "\n",
        "### 13.  What is a property decorator in Python ?\n",
        "    The '@property decorator' in Python is used to covert a class method into a read-only attribute. It alows you to define getters (and optionally setters and deleters) to access and modify rivate attributes in a controlled way, supporting **encapsulation, data hiding** and making the class interface cleaner and more aesthetic.\n",
        "\n",
        "### 14. Why is polymorphism important in OOP ?\n",
        "    Polymorphism in OOP allows the same method name to behave differently based on the object calling it, enabling flexibility, code reusability, and easier maintenance.\n",
        "\n",
        "### 15.  What is an abstract class in Python ?\n",
        "    An abstract class in Python is a class that cannot be instantiated and is meant to be inherited by other classes. It can define abstract methods using the `@abstractmethod` decorator from the `abc` module, which must be implemented by its subclasses, enforcing a common interface and promoting consistent design.\n",
        "\n",
        "### 16. What are the advantages of OOP ?\n",
        "    The advantages of OOP include better code organization through classes and objects, reusability via inheritance, flexibility through polymorphism, data protection using encapsulation, and improved maintainability and scalability by modeling real-world entities in a modular and structured way.\n",
        "\n",
        "### 17. What is the difference between a class variable and an instance variable ?\n",
        "    A class variable is shared by all instances of a class and is defined outside of any instance methods, while an **instance variable** is unique to each object and is defined inside methods using `self`. Class variables maintain a common value across all objects, whereas instance variables store data specific to each object.\n",
        "\n",
        "### 18. What is multiple inheritance in Python ?\n",
        "    Multiple inheritance in Python is a feature where a class can inherit from **more than one parent class**, allowing it to access attributes and methods from all its base classes. It enables code reuse across multiple classes but can introduce complexity, especially with method resolution order (MRO) when there are conflicts or overlapping methods.\n",
        "\n",
        "### 19.  Explain the purpose of ‘’__str__’ and ‘__repr__’ ‘ methods in Python.\n",
        "    The `__str__` method in Python defines the human-readable string representation of an object, used by functions like `print()`, while `__repr__` returns an unambiguous, developer-focused string that ideally can recreate the object and is used by default in the interpreter. Both help in customizing how objects are displayed for readability and debugging.\n",
        "\n",
        "### 20. What is the significance of the ‘super()’ function in Python ?\n",
        "    The `super()` function in Python is used to call methods from a parent class within a child class, allowing access to inherited methods without explicitly naming the parent. It is especially useful in multiple inheritance to ensure the correct method resolution order (MRO) and helps maintain cleaner, more maintainable code when extending functionality.\n",
        "\n",
        "### 21. What is the significance of the __del__ method in Python?\n",
        "    The `__del__` method in Python is a special method called when an object is about to be destroyed, typically used to perform cleanup tasks like closing files or releasing resources. It acts as a destructor but should be used carefully, as its execution timing is determined by Python's garbage collector and may not be predictable.\n",
        "\n",
        "### 22. What is the difference between @staticmethod and @classmethod in Python ?\n",
        "    In Python, `@staticmethod` defines a method that belongs to the class but doesn't access or modify class or instance data, making it act like a regular function placed inside a class. In contrast, `@classmethod` takes the class (`cls`) as its first argument and can access or modify class-level data, making it useful for alternative constructors or class-wide changes.\n",
        "\n",
        "### 23. How does polymorphism work in Python with inheritance ?\n",
        "    In Python, polymorphism with inheritance allows subclasses to override methods of a parent class, enabling different behaviors for the same method name depending on the object's class. This means a single interface can work with objects of different types, supporting dynamic method resolution and flexible, reusable code.\n",
        "\n",
        "### 24. What is method chaining in Python OOP ?\n",
        "    Method chaining in Python OOP is a technique where multiple methods are called on the same object in a single line by having each method return the object itself (`self`). This allows for cleaner and more readable code by linking method calls together sequentially.\n",
        "\n",
        "### 25. What is the purpose of the __call__ method in Python ?\n",
        "    The `__call__` method in Python allows an object to be called like a function. When defined in a class, it lets you use the object’s instance followed by parentheses (e.g., `obj()`) to execute custom behavior, making objects behave like callable functions.\n",
        "\n",
        "\n",
        "\n",
        "\n",
        "\n",
        "\n",
        "## Practical Questions\n",
        "\n",
        "\n"
      ],
      "metadata": {
        "id": "T6cpJB6SX4PG"
      }
    },
    {
      "cell_type": "code",
      "source": [
        "# Create a parent class Animal with a method speak() that prints a generic message. Create a child class Dog that overrides the speak() method to print \"Bark!\".\n",
        "\n",
        "class Animal:\n",
        "    def speak(self):\n",
        "        print(\"This animal makes a sound.\")\n",
        "\n",
        "class Dog(Animal):\n",
        "    def speak(self):\n",
        "        print(\"Bark!\")\n",
        "\n",
        "a = Animal()\n",
        "a.speak()\n",
        "\n",
        "d = Dog()\n",
        "d.speak()\n"
      ],
      "metadata": {
        "id": "n_3d2A5KQSGm",
        "colab": {
          "base_uri": "https://localhost:8080/"
        },
        "outputId": "77f8b918-e5c7-4b32-fe8b-8b6434b1838d"
      },
      "execution_count": null,
      "outputs": [
        {
          "output_type": "stream",
          "name": "stdout",
          "text": [
            "This animal makes a sound.\n",
            "Bark!\n"
          ]
        }
      ]
    },
    {
      "cell_type": "code",
      "source": [
        "# Write a program to create an abstract class Shape with a method area(). Derive classes Circle and Rectangle from it and implement the area() method in both.\n",
        "\n",
        "from abc import ABC, abstractmethod\n",
        "import math\n",
        "\n",
        "class Shape(ABC):\n",
        "    @abstractmethod\n",
        "    def area(self):\n",
        "        pass\n",
        "\n",
        "class Circle(Shape):\n",
        "    def __init__(self, radius):\n",
        "        self.radius = radius\n",
        "\n",
        "    def area(self):\n",
        "        return math.pi * self.radius * self.radius\n",
        "\n",
        "class Rectangle(Shape):\n",
        "    def __init__(self, length, width):\n",
        "        self.length = length\n",
        "        self.width = width\n",
        "\n",
        "    def area(self):\n",
        "        return self.length * self.width\n",
        "\n",
        "c = Circle(5)\n",
        "print(\"Circle area:\", c.area())\n",
        "\n",
        "r = Rectangle(4, 6)\n",
        "print(\"Rectangle area:\", r.area())\n"
      ],
      "metadata": {
        "id": "WS7G779BSFQw",
        "colab": {
          "base_uri": "https://localhost:8080/"
        },
        "outputId": "08c6d087-8e17-4bf7-a20d-28861807fe15"
      },
      "execution_count": 6,
      "outputs": [
        {
          "output_type": "stream",
          "name": "stdout",
          "text": [
            "Circle area: 78.53981633974483\n",
            "Rectangle area: 24\n"
          ]
        }
      ]
    },
    {
      "cell_type": "code",
      "source": [
        "# Implement a multi-level inheritance scenario where a class Vehicle has an attribute type. Derive a class Car and further derive a class ElectricCar that adds a battery attribute\n",
        "\n",
        "class Vehicle:\n",
        "    def __init__(self, type):\n",
        "        self.type = type\n",
        "\n",
        "    def display_type(self):\n",
        "        print(\"Vehicle type:\", self.type)\n",
        "\n",
        "\n",
        "class Car(Vehicle):\n",
        "    def __init__(self, type, brand):\n",
        "        super().__init__(type)\n",
        "        self.brand = brand\n",
        "\n",
        "    def display_car(self):\n",
        "        print(\"Car brand:\", self.brand)\n",
        "\n",
        "\n",
        "class ElectricCar(Car):\n",
        "    def __init__(self, type, brand, battery):\n",
        "        super().__init__(type, brand)\n",
        "        self.battery = battery\n",
        "\n",
        "    def display_electric_car(self):\n",
        "        print(\"Battery capacity:\", self.battery)\n",
        "\n",
        "\n",
        "e = ElectricCar(\"Four Wheeler\", \"Tesla\", \"85 kWh\")\n",
        "\n",
        "e.display_type()\n",
        "e.display_car()\n",
        "e.display_electric_car()\n"
      ],
      "metadata": {
        "colab": {
          "base_uri": "https://localhost:8080/"
        },
        "id": "-li65XilTesr",
        "outputId": "08234f65-80a8-4f91-eb59-d39a379894d7"
      },
      "execution_count": 7,
      "outputs": [
        {
          "output_type": "stream",
          "name": "stdout",
          "text": [
            "Vehicle type: Four Wheeler\n",
            "Car brand: Tesla\n",
            "Battery capacity: 85 kWh\n"
          ]
        }
      ]
    },
    {
      "cell_type": "code",
      "source": [
        "# Demonstrate polymorphism by creating a base class Bird with a method fly(). Create two derived classes Sparrow and Penguin that override the fly() method.\n",
        "\n",
        "class Bird:\n",
        "    def fly(self):\n",
        "        print(\"Some birds can fly.\")\n",
        "\n",
        "class Sparrow(Bird):\n",
        "    def fly(self):\n",
        "        print(\"Sparrow flies high in the sky.\")\n",
        "\n",
        "class Penguin(Bird):\n",
        "    def fly(self):\n",
        "        print(\"Penguins cannot fly, they swim instead.\")\n",
        "\n",
        "# Polymorphism in action\n",
        "birds = [Sparrow(), Penguin()]\n",
        "\n",
        "for b in birds:\n",
        "    b.fly()\n"
      ],
      "metadata": {
        "colab": {
          "base_uri": "https://localhost:8080/"
        },
        "id": "8-juyHADT352",
        "outputId": "5e633204-52c5-4384-88d8-100b566654e8"
      },
      "execution_count": 8,
      "outputs": [
        {
          "output_type": "stream",
          "name": "stdout",
          "text": [
            "Sparrow flies high in the sky.\n",
            "Penguins cannot fly, they swim instead.\n"
          ]
        }
      ]
    },
    {
      "cell_type": "code",
      "source": [
        "# Write a program to demonstrate encapsulation by creating a class BankAccount with private attributes balance and methods to deposit, withdraw, and check balance.\n",
        "\n",
        "class BankAccount:\n",
        "    def __init__(self, initial_balance=0):\n",
        "        self.__balance = initial_balance   # private attribute\n",
        "\n",
        "    def deposit(self, amount):\n",
        "        if amount > 0:\n",
        "            self.__balance += amount\n",
        "            print(\"Deposited:\", amount)\n",
        "        else:\n",
        "            print(\"Invalid deposit amount\")\n",
        "\n",
        "    def withdraw(self, amount):\n",
        "        if 0 < amount <= self.__balance:\n",
        "            self.__balance -= amount\n",
        "            print(\"Withdrawn:\", amount)\n",
        "        else:\n",
        "            print(\"Insufficient balance or invalid amount\")\n",
        "\n",
        "    def check_balance(self):\n",
        "        print(\"Current Balance:\", self.__balance)\n",
        "\n",
        "\n",
        "# Example usage\n",
        "account = BankAccount(1000)\n",
        "\n",
        "account.deposit(500)\n",
        "account.withdraw(200)\n",
        "account.check_balance()\n",
        "\n",
        "# Direct access not allowed\n",
        "# print(account.__balance)  # This will raise an AttributeError\n"
      ],
      "metadata": {
        "colab": {
          "base_uri": "https://localhost:8080/"
        },
        "id": "lisJUffiUHpP",
        "outputId": "8727eff5-4780-4059-ff38-55b62ccc071b"
      },
      "execution_count": 9,
      "outputs": [
        {
          "output_type": "stream",
          "name": "stdout",
          "text": [
            "Deposited: 500\n",
            "Withdrawn: 200\n",
            "Current Balance: 1300\n"
          ]
        }
      ]
    },
    {
      "cell_type": "code",
      "source": [
        "# Demonstrate runtime polymorphism using a method play() in a base class Instrument. Derive classes Guitar and Piano that implement their own version of play().\n",
        "\n",
        "class Instrument:\n",
        "    def play(self):\n",
        "        print(\"This instrument makes a sound.\")\n",
        "\n",
        "class Guitar(Instrument):\n",
        "    def play(self):\n",
        "        print(\"Strumming the guitar.\")\n",
        "\n",
        "class Piano(Instrument):\n",
        "    def play(self):\n",
        "        print(\"Playing the piano.\")\n",
        "\n",
        "# Runtime polymorphism\n",
        "instruments = [Guitar(), Piano()]\n",
        "\n",
        "for instr in instruments:\n",
        "    instr.play()\n"
      ],
      "metadata": {
        "colab": {
          "base_uri": "https://localhost:8080/"
        },
        "id": "HITsNK1DUSH3",
        "outputId": "e9e36f55-de23-4250-e4da-dd2a55b8f8a3"
      },
      "execution_count": 10,
      "outputs": [
        {
          "output_type": "stream",
          "name": "stdout",
          "text": [
            "Strumming the guitar.\n",
            "Playing the piano.\n"
          ]
        }
      ]
    },
    {
      "cell_type": "code",
      "source": [
        "# Create a class MathOperations with a class method add_numbers() to add two numbers and a static method subtract_numbers() to subtract two numbers.\n",
        "\n",
        "class MathOperations:\n",
        "    @classmethod\n",
        "    def add_numbers(cls, a, b):\n",
        "        return a + b\n",
        "\n",
        "    @staticmethod\n",
        "    def subtract_numbers(a, b):\n",
        "        return a - b\n",
        "\n",
        "\n",
        "# Example usage\n",
        "print(\"Addition:\", MathOperations.add_numbers(10, 5))\n",
        "print(\"Subtraction:\", MathOperations.subtract_numbers(10, 5))\n"
      ],
      "metadata": {
        "colab": {
          "base_uri": "https://localhost:8080/"
        },
        "id": "1RVujwerUfHv",
        "outputId": "db0511a0-c59a-4152-bbf2-7f8b3a5918f9"
      },
      "execution_count": 11,
      "outputs": [
        {
          "output_type": "stream",
          "name": "stdout",
          "text": [
            "Addition: 15\n",
            "Subtraction: 5\n"
          ]
        }
      ]
    },
    {
      "cell_type": "code",
      "source": [
        "# Implement a class Person with a class method to count the total number of persons created.\n",
        "\n",
        "class Person:\n",
        "    count = 0   # class variable\n",
        "\n",
        "    def __init__(self, name):\n",
        "        self.name = name\n",
        "        Person.count += 1\n",
        "\n",
        "    @classmethod\n",
        "    def total_persons(cls):\n",
        "        return cls.count\n",
        "\n",
        "\n",
        "# Example usage\n",
        "p1 = Person(\"Nitesh\")\n",
        "p2 = Person(\"Saru\")\n",
        "p3 = Person(\"Manish\")\n",
        "\n",
        "print(\"Total persons created:\", Person.total_persons())\n"
      ],
      "metadata": {
        "colab": {
          "base_uri": "https://localhost:8080/"
        },
        "id": "OwQJW_RDUo1N",
        "outputId": "0583a59d-3e97-4598-d830-555e0b02f725"
      },
      "execution_count": 14,
      "outputs": [
        {
          "output_type": "stream",
          "name": "stdout",
          "text": [
            "Total persons created: 3\n"
          ]
        }
      ]
    },
    {
      "cell_type": "code",
      "source": [
        "# Write a class Fraction with attributes numerator and denominator. Override the str method to display the fraction as \"numerator/denominator\".\n",
        "\n",
        "class Fraction:\n",
        "    def __init__(self, numerator, denominator):\n",
        "        self.numerator = numerator\n",
        "        self.denominator = denominator\n",
        "\n",
        "    def __str__(self):\n",
        "        return f\"{self.numerator}/{self.denominator}\"\n",
        "\n",
        "\n",
        "# Example usage\n",
        "f1 = Fraction(3, 4)\n",
        "f2 = Fraction(7, 2)\n",
        "\n",
        "print(f1)\n",
        "print(f2)\n"
      ],
      "metadata": {
        "colab": {
          "base_uri": "https://localhost:8080/"
        },
        "id": "AkR8cE_GU0nE",
        "outputId": "a2b6ba9d-7be1-4b38-fb93-540932e8b735"
      },
      "execution_count": 13,
      "outputs": [
        {
          "output_type": "stream",
          "name": "stdout",
          "text": [
            "3/4\n",
            "7/2\n"
          ]
        }
      ]
    },
    {
      "cell_type": "code",
      "source": [
        "#  Demonstrate operator overloading by creating a class Vector and overriding the add method to add two vectors.\n",
        "\n",
        "class Vector:\n",
        "    def __init__(self, x, y):\n",
        "        self.x = x\n",
        "        self.y = y\n",
        "\n",
        "    def __add__(self, other):\n",
        "        return Vector(self.x + other.x, self.y + other.y)\n",
        "\n",
        "    def __str__(self):\n",
        "        return f\"({self.x}, {self.y})\"\n",
        "\n",
        "\n",
        "# Example usage\n",
        "v1 = Vector(2, 3)\n",
        "v2 = Vector(4, 5)\n",
        "\n",
        "v3 = v1 + v2   # uses overloaded __add__\n",
        "\n",
        "print(\"v1:\", v1)\n",
        "print(\"v2:\", v2)\n",
        "print(\"v1 + v2 =\", v3)\n"
      ],
      "metadata": {
        "colab": {
          "base_uri": "https://localhost:8080/"
        },
        "id": "csBgNVsPU_IC",
        "outputId": "f2acc339-a92f-4b1e-d0ed-17f6ae02338c"
      },
      "execution_count": 15,
      "outputs": [
        {
          "output_type": "stream",
          "name": "stdout",
          "text": [
            "v1: (2, 3)\n",
            "v2: (4, 5)\n",
            "v1 + v2 = (6, 8)\n"
          ]
        }
      ]
    },
    {
      "cell_type": "code",
      "source": [
        "# Create a class Person with attributes name and age. Add a method greet() that prints \"Hello, my name is {name} and I am {age} years old.\"\n",
        "\n",
        "class Person:\n",
        "    def __init__(self, name, age):\n",
        "        self.name = name\n",
        "        self.age = age\n",
        "\n",
        "    def greet(self):\n",
        "        print(f\"Hello, my name is {self.name} and I am {self.age} years old.\")\n",
        "\n",
        "\n",
        "# Example usage\n",
        "p1 = Person(\"Nitesh\", 34)\n",
        "p2 = Person(\"Saru\", 31)\n",
        "\n",
        "p1.greet()\n",
        "p2.greet()\n"
      ],
      "metadata": {
        "colab": {
          "base_uri": "https://localhost:8080/"
        },
        "id": "1wkzRa0bVj3S",
        "outputId": "6f68131e-98f4-4ac2-cddf-60cfcf47c772"
      },
      "execution_count": 17,
      "outputs": [
        {
          "output_type": "stream",
          "name": "stdout",
          "text": [
            "Hello, my name is Nitesh and I am 34 years old.\n",
            "Hello, my name is Saru and I am 31 years old.\n"
          ]
        }
      ]
    },
    {
      "cell_type": "code",
      "source": [
        "# Implement a class Student with attributes name and grades. Create a method average_grade() to compute the average of the grades.\n",
        "\n",
        "class Student:\n",
        "    def __init__(self, name, grades):\n",
        "        self.name = name\n",
        "        self.grades = grades\n",
        "\n",
        "    def average_grade(self):\n",
        "        if len(self.grades) == 0:\n",
        "            return 0\n",
        "        return sum(self.grades) / len(self.grades)\n",
        "\n",
        "\n",
        "# Example usage\n",
        "s1 = Student(\"Alice\", [85, 90, 78])\n",
        "s2 = Student(\"Bob\", [70, 80, 65, 75])\n",
        "\n",
        "print(s1.name, \"Average Grade:\", s1.average_grade())\n",
        "print(s2.name, \"Average Grade:\", s2.average_grade())\n"
      ],
      "metadata": {
        "colab": {
          "base_uri": "https://localhost:8080/"
        },
        "id": "zm7dCf-yWDry",
        "outputId": "b3e94df9-5d33-48bf-f6eb-64ff010525c8"
      },
      "execution_count": 18,
      "outputs": [
        {
          "output_type": "stream",
          "name": "stdout",
          "text": [
            "Alice Average Grade: 84.33333333333333\n",
            "Bob Average Grade: 72.5\n"
          ]
        }
      ]
    },
    {
      "cell_type": "code",
      "source": [
        "# Create a class Rectangle with methods set_dimensions() to set the dimensions and area() to calculate the area\n",
        "\n",
        "class Rectangle:\n",
        "    def __init__(self):\n",
        "        self.length = 0\n",
        "        self.width = 0\n",
        "\n",
        "    def set_dimensions(self, length, width):\n",
        "        self.length = length\n",
        "        self.width = width\n",
        "\n",
        "    def area(self):\n",
        "        return self.length * self.width\n",
        "\n",
        "\n",
        "# Example usage\n",
        "r = Rectangle()\n",
        "r.set_dimensions(5, 10)\n",
        "print(\"Area of rectangle:\", r.area())\n"
      ],
      "metadata": {
        "colab": {
          "base_uri": "https://localhost:8080/"
        },
        "id": "A7VdzSuzWQCr",
        "outputId": "e10fada9-3015-473c-e5ce-bf4d1e47ac3f"
      },
      "execution_count": 19,
      "outputs": [
        {
          "output_type": "stream",
          "name": "stdout",
          "text": [
            "Area of rectangle: 50\n"
          ]
        }
      ]
    },
    {
      "cell_type": "code",
      "source": [
        "# Create a class Employee with a method calculate_salary() that computes the salary based on hours worked and hourly rate. Create a derived class Manager that adds a bonus to the salary.\n",
        "\n",
        "class Employee:\n",
        "    def __init__(self, name, hours_worked, hourly_rate):\n",
        "        self.name = name\n",
        "        self.hours_worked = hours_worked\n",
        "        self.hourly_rate = hourly_rate\n",
        "\n",
        "    def calculate_salary(self):\n",
        "        return self.hours_worked * self.hourly_rate\n",
        "\n",
        "\n",
        "class Manager(Employee):\n",
        "    def __init__(self, name, hours_worked, hourly_rate, bonus):\n",
        "        super().__init__(name, hours_worked, hourly_rate)\n",
        "        self.bonus = bonus\n",
        "\n",
        "    def calculate_salary(self):\n",
        "        base_salary = super().calculate_salary()\n",
        "        return base_salary + self.bonus\n",
        "\n",
        "\n",
        "# Example usage\n",
        "emp = Employee(\"Alice\", 40, 20)\n",
        "mgr = Manager(\"Bob\", 45, 30, 500)\n",
        "\n",
        "print(emp.name, \"Salary:\", emp.calculate_salary())\n",
        "print(mgr.name, \"Salary:\", mgr.calculate_salary())\n"
      ],
      "metadata": {
        "colab": {
          "base_uri": "https://localhost:8080/"
        },
        "id": "5kuKz8gzWqKh",
        "outputId": "563e244d-8960-4fc5-bf98-aed4fe95511a"
      },
      "execution_count": 20,
      "outputs": [
        {
          "output_type": "stream",
          "name": "stdout",
          "text": [
            "Alice Salary: 800\n",
            "Bob Salary: 1850\n"
          ]
        }
      ]
    },
    {
      "cell_type": "code",
      "source": [
        "# Create a class Product with attributes name, price, and quantity. Implement a method total_price() that calculates the total price of the product.\n",
        "\n",
        "class Product:\n",
        "    def __init__(self, name, price, quantity):\n",
        "        self.name = name\n",
        "        self.price = price\n",
        "        self.quantity = quantity\n",
        "\n",
        "    def total_price(self):\n",
        "        return self.price * self.quantity\n",
        "\n",
        "\n",
        "# Example usage\n",
        "p1 = Product(\"Laptop\", 50000, 2)\n",
        "p2 = Product(\"Phone\", 20000, 3)\n",
        "\n",
        "print(p1.name, \"Total Price:\", p1.total_price())\n",
        "print(p2.name, \"Total Price:\", p2.total_price())\n"
      ],
      "metadata": {
        "colab": {
          "base_uri": "https://localhost:8080/"
        },
        "id": "o5HJAqFoW1ZY",
        "outputId": "051f2e29-58c3-4f29-fb08-35a8012340c4"
      },
      "execution_count": 21,
      "outputs": [
        {
          "output_type": "stream",
          "name": "stdout",
          "text": [
            "Laptop Total Price: 100000\n",
            "Phone Total Price: 60000\n"
          ]
        }
      ]
    },
    {
      "cell_type": "code",
      "source": [
        "#  Create a class Animal with an abstract method sound(). Create two derived classes Cow and Sheep that implement the sound() method.\n",
        "\n",
        "from abc import ABC, abstractmethod\n",
        "\n",
        "class Animal(ABC):\n",
        "    @abstractmethod\n",
        "    def sound(self):\n",
        "        pass\n",
        "\n",
        "\n",
        "class Cow(Animal):\n",
        "    def sound(self):\n",
        "        return \"Moo\"\n",
        "\n",
        "\n",
        "class Sheep(Animal):\n",
        "    def sound(self):\n",
        "        return \"Baa\"\n",
        "\n",
        "\n",
        "# Example usage\n",
        "animals = [Cow(), Sheep()]\n",
        "\n",
        "for a in animals:\n",
        "    print(a.sound())\n"
      ],
      "metadata": {
        "colab": {
          "base_uri": "https://localhost:8080/"
        },
        "id": "lkajWLFoXAKH",
        "outputId": "d2023ff7-0c03-4d23-fbe0-08353fb959f9"
      },
      "execution_count": 22,
      "outputs": [
        {
          "output_type": "stream",
          "name": "stdout",
          "text": [
            "Moo\n",
            "Baa\n"
          ]
        }
      ]
    },
    {
      "cell_type": "code",
      "source": [
        "# Create a class Book with attributes title, author, and year_published. Add a method get_book_info() that returns a formatted string with the book's details.\n",
        "\n",
        "class Book:\n",
        "    def __init__(self, title, author, year_published):\n",
        "        self.title = title\n",
        "        self.author = author\n",
        "        self.year_published = year_published\n",
        "\n",
        "    def get_book_info(self):\n",
        "        return f\"'{self.title}' by {self.author}, published in {self.year_published}\"\n",
        "\n",
        "\n",
        "# Example usage\n",
        "b1 = Book(\"1984\", \"George Orwell\", 1949)\n",
        "b2 = Book(\"The Alchemist\", \"Paulo Coelho\", 1988)\n",
        "\n",
        "print(b1.get_book_info())\n",
        "print(b2.get_book_info())\n"
      ],
      "metadata": {
        "colab": {
          "base_uri": "https://localhost:8080/"
        },
        "id": "lTTptsDoXOQS",
        "outputId": "58ea6765-99db-4662-e856-4e98a9d37d54"
      },
      "execution_count": 23,
      "outputs": [
        {
          "output_type": "stream",
          "name": "stdout",
          "text": [
            "'1984' by George Orwell, published in 1949\n",
            "'The Alchemist' by Paulo Coelho, published in 1988\n"
          ]
        }
      ]
    },
    {
      "cell_type": "code",
      "source": [
        "# Create a class House with attributes address and price. Create a derived class Mansion that adds an attribute number_of_rooms.\n",
        "\n",
        "class House:\n",
        "    def __init__(self, address, price):\n",
        "        self.address = address\n",
        "        self.price = price\n",
        "\n",
        "    def get_info(self):\n",
        "        return f\"House located at {self.address}, priced at {self.price}.\"\n",
        "\n",
        "\n",
        "class Mansion(House):\n",
        "    def __init__(self, address, price, number_of_rooms):\n",
        "        super().__init__(address, price)\n",
        "        self.number_of_rooms = number_of_rooms\n",
        "\n",
        "    def get_info(self):\n",
        "        return f\"Mansion located at {self.address}, priced at {self.price}, with {self.number_of_rooms} rooms.\"\n",
        "\n",
        "\n",
        "# Example usage\n",
        "h = House(\"23 Manas Vatika\", 500000)\n",
        "m = Mansion(\"56 DLF Mansion\", 5000000, 12)\n",
        "\n",
        "print(h.get_info())\n",
        "print(m.get_info())\n"
      ],
      "metadata": {
        "colab": {
          "base_uri": "https://localhost:8080/"
        },
        "id": "PIB2D_ZQXY9W",
        "outputId": "28386097-557e-4b32-c4a8-b5de60e4b1fd"
      },
      "execution_count": 25,
      "outputs": [
        {
          "output_type": "stream",
          "name": "stdout",
          "text": [
            "House located at 23 Manas Vatika, priced at 500000.\n",
            "Mansion located at 56 DLF Mansion, priced at 5000000, with 12 rooms.\n"
          ]
        }
      ]
    }
  ]
}